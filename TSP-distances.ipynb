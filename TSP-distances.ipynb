{
 "cells": [
  {
   "cell_type": "code",
   "execution_count": 1,
   "id": "0e0cc8c3-e3b0-43ba-a750-1c3b46bb3325",
   "metadata": {},
   "outputs": [],
   "source": [
    "import numpy as np"
   ]
  },
  {
   "cell_type": "code",
   "execution_count": 2,
   "id": "bcc21153-5765-489c-8a90-5a037ade1303",
   "metadata": {},
   "outputs": [],
   "source": [
    "def calculate_distance(city1, city2, distance_dict):\n",
    "    return distance_dict[(city1, city2)]\n",
    "\n",
    "def compute_distance(route, distance_dict, cluster_dict=None):\n",
    "    full_route = []\n",
    "    for item in route:\n",
    "        if cluster_dict and item in cluster_dict:\n",
    "            full_route.extend(cluster_dict[item])\n",
    "        else:\n",
    "            full_route.append(item)\n",
    "\n",
    "    dist = 0.0\n",
    "    for i in range(len(full_route)):\n",
    "        current_city = full_route[i]\n",
    "        next_city = full_route[(i+1) % len(full_route)]\n",
    "        dist += calculate_distance(current_city, next_city, distance_dict)\n",
    "    return dist\n"
   ]
  },
  {
   "cell_type": "code",
   "execution_count": 13,
   "id": "3776f1ba-3f24-4a39-a4c1-a50b14010800",
   "metadata": {},
   "outputs": [],
   "source": [
    "# Number of cities\n",
    "num_cities = 20\n",
    "level_0_iterations = 2\n",
    "level_1_iterations = 2\n",
    "level_2_iterations = 2\n",
    "\n",
    "all_cities = [f\"City {i}\" for i in range(1, num_cities+1)]\n",
    "\n",
    "# Creating cities with random distances between 1 and 5\n",
    "distances = {}\n",
    "for i in range(num_cities):\n",
    "    for j in range(i+1, num_cities):\n",
    "        dist = np.random.randint(1, 6)\n",
    "        cityA = all_cities[i]\n",
    "        cityB = all_cities[j]\n",
    "        distances[(cityA, cityB)] = dist\n",
    "        distances[(cityB, cityA)] = dist"
   ]
  },
  {
   "cell_type": "code",
   "execution_count": 23,
   "id": "791920c9-259f-4fc1-b24e-0cfcac21a121",
   "metadata": {},
   "outputs": [
    {
     "name": "stdout",
     "output_type": "stream",
     "text": [
      "\n",
      "Level 0\n",
      "Random Level 0 route:\n",
      "['City 1', 'City 2', 'City 3', 'City 4', 'City 5', 'City 6', 'City 7', 'City 8', 'City 9', 'City 10', 'City 11', 'City 12', 'City 13', 'City 14', 'City 15', 'City 16', 'City 17', 'City 18', 'City 19', 'City 20']\n"
     ]
    }
   ],
   "source": [
    "print(\"\\nLevel 0\")\n",
    "\n",
    "city_names = list(all_cities)\n",
    "\n",
    "print(city_names)"
   ]
  },
  {
   "cell_type": "code",
   "execution_count": 22,
   "id": "2d8ea68b-bedf-4d1c-be16-1c75395d1aee",
   "metadata": {},
   "outputs": [
    {
     "name": "stdout",
     "output_type": "stream",
     "text": [
      "\n",
      "Level 1\n",
      "Cluster 1: ('City 11', 'City 14')\n",
      "Cluster 2: ('City 10', 'City 6')\n",
      "Cluster 3: ('City 8', 'City 13')\n",
      "Cluster 4: ('City 9', 'City 16')\n",
      "Cluster 5: ('City 1', 'City 17')\n",
      "Cluster 6: ('City 12', 'City 20')\n",
      "Cluster 7: ('City 3', 'City 18')\n",
      "Cluster 8: ('City 19', 'City 7')\n",
      "Cluster 9: ('City 4', 'City 15')\n",
      "Cluster 10: ('City 2', 'City 5')\n"
     ]
    }
   ],
   "source": [
    "# Level 1\n",
    "city_list = list(city_names)\n",
    "np.random.shuffle(city_list)\n",
    "\n",
    "clusters_level_1 = {}\n",
    "\n",
    "for i in range(int(num_cities/2)):\n",
    "    city_a = city_list.pop()\n",
    "    city_b = city_list.pop()\n",
    "    clusters_level_1[f\"Cluster {i+1}\"] = (city_a, city_b)\n",
    "    \n",
    "print(\"\\nLevel 1\")\n",
    "for cluster, cities in clusters_level_1.items():\n",
    "    print(f\"{cluster}: {cities}\")"
   ]
  },
  {
   "cell_type": "code",
   "execution_count": 24,
   "id": "994a0e18-62af-4816-ba76-062e9fabe2f5",
   "metadata": {},
   "outputs": [
    {
     "name": "stdout",
     "output_type": "stream",
     "text": [
      "\n",
      "Level 2\n",
      "Cluster 1: ('City 10', 'City 6', 'City 3', 'City 18')\n",
      "Cluster 2: ('City 11', 'City 14', 'City 2', 'City 5')\n",
      "Cluster 3: ('City 1', 'City 17', 'City 4', 'City 15')\n",
      "Cluster 4: ('City 19', 'City 7', 'City 12', 'City 20')\n",
      "Cluster 5: ('City 8', 'City 13', 'City 9', 'City 16')\n"
     ]
    }
   ],
   "source": [
    "# Level 2\n",
    "cluster_list = list(clusters_level_1.keys())\n",
    "np.random.shuffle(cluster_list)\n",
    "\n",
    "clusters_level_2 = {}\n",
    "l2_to_l1_map = {}\n",
    "\n",
    "for i in range(int(num_cities/4)):\n",
    "    cluster_a_name = cluster_list.pop()\n",
    "    cluster_b_name = cluster_list.pop()\n",
    "\n",
    "    cluster_a_tuple = clusters_level_1[cluster_a_name]\n",
    "    cluster_b_tuple = clusters_level_1[cluster_b_name]\n",
    "\n",
    "    l2_name = f\"Cluster {i+1}\"\n",
    "\n",
    "    clusters_level_2[l2_name] = cluster_a_tuple + cluster_b_tuple\n",
    "    l2_to_l1_map[l2_name] = (cluster_a_name, cluster_b_name)\n",
    "\n",
    "print(\"\\nLevel 2\")\n",
    "for cluster, cities_4 in clusters_level_2.items():\n",
    "    print(f\"{cluster}: {cities_4}\")"
   ]
  },
  {
   "cell_type": "code",
   "execution_count": 17,
   "id": "baa78942-9dfb-4869-a854-122276b312eb",
   "metadata": {},
   "outputs": [
    {
     "name": "stdout",
     "output_type": "stream",
     "text": [
      "\n",
      "Step 2, two iteration search algorithm at level 2\n",
      "\n",
      "Initial cluster order: ['Cluster 2', 'Cluster 3', 'Cluster 1', 'Cluster 5', 'Cluster 4']\n",
      "Initial solution: [{('City 20', 'City 17', 'City 7', 'City 8')}, {('City 9', 'City 5', 'City 2', 'City 19')}, {('City 4', 'City 14', 'City 10', 'City 1')}, {('City 6', 'City 15', 'City 11', 'City 16')}, {('City 12', 'City 3', 'City 18', 'City 13')}]\n",
      "Initial distance: 59.00\n",
      "\n",
      "Iteration 1:\n",
      "Random indices: 1, 2\n",
      "Swapped order: ['Cluster 2', 'Cluster 1', 'Cluster 3', 'Cluster 5', 'Cluster 4']\n",
      "Swapped distance: 61.00\n",
      "Reverting to previous order\n",
      "\n",
      "Iteration 2:\n",
      "Random indices: 0, 4\n",
      "Swapped order: ['Cluster 4', 'Cluster 3', 'Cluster 1', 'Cluster 5', 'Cluster 2']\n",
      "Swapped distance: 57.00\n",
      "Keeping swapped order\n",
      "\n",
      "Final cluster order: ['Cluster 4', 'Cluster 3', 'Cluster 1', 'Cluster 5', 'Cluster 2']\n",
      "Final solution at level 2: [{('City 12', 'City 3', 'City 18', 'City 13')}, {('City 9', 'City 5', 'City 2', 'City 19')}, {('City 4', 'City 14', 'City 10', 'City 1')}, {('City 6', 'City 15', 'City 11', 'City 16')}, {('City 20', 'City 17', 'City 7', 'City 8')}]\n",
      "Final distance: 57.00\n"
     ]
    }
   ],
   "source": [
    "print(\"\\nStep 2, two iteration search algorithm at level 2\\n\")\n",
    "\n",
    "cluster_order = list(clusters_level_2.keys())\n",
    "np.random.shuffle(cluster_order)\n",
    "\n",
    "current_distance = compute_distance(cluster_order, distances, clusters_level_2)\n",
    "\n",
    "print(\"Initial cluster order:\", cluster_order)\n",
    "initial_solution_level2 = [{clusters_level_2[ck]} for ck in cluster_order]\n",
    "print(f\"Initial solution: {initial_solution_level2}\")\n",
    "print(f\"Initial distance: {current_distance:.2f}\")\n",
    "\n",
    "for iteration in range(level_2_iterations):\n",
    "    i, j = np.random.choice(int(num_cities/4), size=2, replace=False)\n",
    "    print(f\"\\nIteration {iteration+1}:\")\n",
    "    print(f\"Random indices: {i}, {j}\")\n",
    "\n",
    "    swapped_order = cluster_order[:]\n",
    "    swapped_order[i], swapped_order[j] = swapped_order[j], swapped_order[i]\n",
    "\n",
    "    print(\"Swapped order:\", swapped_order)\n",
    "\n",
    "    new_distance = compute_distance(swapped_order, distances, clusters_level_2)\n",
    "    print(f\"Swapped distance: {new_distance:.2f}\")\n",
    "\n",
    "    if new_distance < current_distance:\n",
    "        print(\"Keeping swapped order\")\n",
    "        cluster_order = swapped_order\n",
    "        current_distance = new_distance\n",
    "    else:\n",
    "        print(\"Reverting to previous order\")\n",
    "\n",
    "print(\"\\nFinal cluster order:\", cluster_order)\n",
    "final_solution_level2 = [{clusters_level_2[ck]} for ck in cluster_order]\n",
    "print(f\"Final solution at level 2: {final_solution_level2}\")\n",
    "print(f\"Final distance: {current_distance:.2f}\")\n",
    "\n",
    "final_order_l2 = cluster_order[:]"
   ]
  },
  {
   "cell_type": "code",
   "execution_count": 19,
   "id": "775620e0-8ee8-4ec6-bb67-8e8f531e2bfe",
   "metadata": {},
   "outputs": [
    {
     "name": "stdout",
     "output_type": "stream",
     "text": [
      "\n",
      "Step 3, two iteration search algorithm at level 1\n",
      "\n",
      "Expanded cluster order: ['Cluster 6', 'Cluster 3', 'Cluster 9', 'Cluster 10', 'Cluster 1', 'Cluster 2', 'Cluster 5', 'Cluster 4', 'Cluster 7', 'Cluster 8']\n",
      "Initial solution: [{('City 12', 'City 3')}, {('City 18', 'City 13')}, {('City 9', 'City 5')}, {('City 2', 'City 19')}, {('City 4', 'City 14')}, {('City 10', 'City 1')}, {('City 6', 'City 15')}, {('City 11', 'City 16')}, {('City 20', 'City 17')}, {('City 7', 'City 8')}]\n",
      "Initial distance: 57.00\n",
      "\n",
      "Iteration 1:\n",
      "Random indices: 9, 0\n",
      "Swapped order: ['Cluster 8', 'Cluster 3', 'Cluster 9', 'Cluster 10', 'Cluster 1', 'Cluster 2', 'Cluster 5', 'Cluster 4', 'Cluster 7', 'Cluster 6']\n",
      "Swapped distance: 59.00\n",
      "Reverting to previous order\n",
      "\n",
      "Iteration 2:\n",
      "Random indices: 7, 1\n",
      "Swapped order: ['Cluster 6', 'Cluster 4', 'Cluster 9', 'Cluster 10', 'Cluster 1', 'Cluster 2', 'Cluster 5', 'Cluster 3', 'Cluster 7', 'Cluster 8']\n",
      "Swapped distance: 62.00\n",
      "Reverting to previous order\n",
      "\n",
      "Final cluster order: ['Cluster 6', 'Cluster 3', 'Cluster 9', 'Cluster 10', 'Cluster 1', 'Cluster 2', 'Cluster 5', 'Cluster 4', 'Cluster 7', 'Cluster 8']\n",
      "Final solution at level 1: [{('City 12', 'City 3')}, {('City 18', 'City 13')}, {('City 9', 'City 5')}, {('City 2', 'City 19')}, {('City 4', 'City 14')}, {('City 10', 'City 1')}, {('City 6', 'City 15')}, {('City 11', 'City 16')}, {('City 20', 'City 17')}, {('City 7', 'City 8')}]\n",
      "Final distance: 57.00\n"
     ]
    }
   ],
   "source": [
    "print(\"\\nStep 3, two iteration search algorithm at level 1\\n\")\n",
    "\n",
    "level1_order = []\n",
    "for l2_name in final_order_l2:\n",
    "    l1_a, l1_b = l2_to_l1_map[l2_name]\n",
    "    level1_order.append(l1_a)\n",
    "    level1_order.append(l1_b)\n",
    "\n",
    "print(\"Expanded cluster order:\", level1_order)\n",
    "\n",
    "initial_solution_level1 = [{clusters_level_1[name]} for name in level1_order]\n",
    "print(f\"Initial solution: {initial_solution_level1}\")\n",
    "\n",
    "current_distance_l1 = compute_distance(level1_order, distances, clusters_level_1)\n",
    "print(f\"Initial distance: {current_distance_l1:.2f}\")\n",
    "\n",
    "for iteration in range(level_1_iterations):\n",
    "    i, j = np.random.choice(int(num_cities/2), size=2, replace=False)\n",
    "    print(f\"\\nIteration {iteration+1}:\")\n",
    "    print(f\"Random indices: {i}, {j}\")\n",
    "\n",
    "    swapped_order = level1_order[:]\n",
    "    swapped_order[i], swapped_order[j] = swapped_order[j], swapped_order[i]\n",
    "\n",
    "    print(\"Swapped order:\", swapped_order)\n",
    "\n",
    "    new_distance = compute_distance(swapped_order, distances, clusters_level_1)\n",
    "    print(f\"Swapped distance: {new_distance:.2f}\")\n",
    "\n",
    "    if new_distance < current_distance_l1:\n",
    "        print(\"Keeping swapped order\")\n",
    "        level1_order = swapped_order\n",
    "        current_distance_l1 = new_distance\n",
    "    else:\n",
    "        print(\"Reverting to previous order\")\n",
    "\n",
    "print(\"\\nFinal cluster order:\", level1_order)\n",
    "final_solution_level1 = [{clusters_level_1[ck]} for ck in level1_order]\n",
    "print(f\"Final solution at level 1: {final_solution_level1}\")\n",
    "print(f\"Final distance: {current_distance_l1:.2f}\")\n"
   ]
  },
  {
   "cell_type": "code",
   "execution_count": 20,
   "id": "9b7fd2f1-d16c-43e5-8478-da4c77ca588f",
   "metadata": {},
   "outputs": [
    {
     "name": "stdout",
     "output_type": "stream",
     "text": [
      "\n",
      "Step 4: two-iteration local search algorithm at the original level\n",
      "\n",
      "Extended city route\n",
      "['City 12', 'City 3', 'City 18', 'City 13', 'City 9', 'City 5', 'City 2', 'City 19', 'City 4', 'City 14', 'City 10', 'City 1', 'City 6', 'City 15', 'City 11', 'City 16', 'City 20', 'City 17', 'City 7', 'City 8']\n",
      "Initial distance: 57.00\n",
      "\n",
      "Iteration 1:\n",
      "Random indices: 9, 13\n",
      "Swapped distance: 57.00\n",
      "Reverting to previous order\n",
      "\n",
      "Iteration 2:\n",
      "Random indices: 15, 5\n",
      "Swapped distance: 53.00\n",
      "Keeping swapped order\n",
      "\n",
      "Final city route order:\n",
      "['City 12', 'City 3', 'City 18', 'City 13', 'City 9', 'City 16', 'City 2', 'City 19', 'City 4', 'City 14', 'City 10', 'City 1', 'City 6', 'City 15', 'City 11', 'City 5', 'City 20', 'City 17', 'City 7', 'City 8']\n",
      "Final distance: 53.00\n"
     ]
    }
   ],
   "source": [
    "print(\"\\nStep 4: two-iteration local search algorithm at the original level\\n\")\n",
    "\n",
    "final_city_route = []\n",
    "for ck in level1_order:\n",
    "    city_pair = clusters_level_1[ck]\n",
    "    final_city_route.extend(city_pair)\n",
    "\n",
    "print(\"Extended city route\")\n",
    "print(final_city_route)\n",
    "\n",
    "current_distance_l0 = compute_distance(final_city_route, distances)\n",
    "print(f\"Initial distance: {current_distance_l0:.2f}\")\n",
    "\n",
    "best_route = final_city_route[:]\n",
    "for iteration in range(level_0_iterations):\n",
    "    i, j = np.random.choice(num_cities, size=2, replace=False)\n",
    "    print(f\"\\nIteration {iteration+1}:\")\n",
    "    print(f\"Random indices: {i}, {j}\")\n",
    "\n",
    "    swapped = best_route[:]\n",
    "    swapped[i], swapped[j] = swapped[j], swapped[i]\n",
    "\n",
    "    new_dist = compute_distance(swapped, distances)\n",
    "    print(f\"Swapped distance: {new_dist:.2f}\")\n",
    "\n",
    "    if new_dist < current_distance_l0:\n",
    "        print(\"Keeping swapped order\")\n",
    "        best_route = swapped\n",
    "        current_distance_l0 = new_dist\n",
    "    else:\n",
    "        print(\"Reverting to previous order\")\n",
    "\n",
    "print(\"\\nFinal city route order:\")\n",
    "print(best_route)\n",
    "print(f\"Final distance: {current_distance_l0:.2f}\")\n"
   ]
  },
  {
   "cell_type": "code",
   "execution_count": null,
   "id": "6a6479b4-b089-463c-853c-a5d2fb964cb6",
   "metadata": {},
   "outputs": [],
   "source": []
  }
 ],
 "metadata": {
  "kernelspec": {
   "display_name": "Python 3 (ipykernel)",
   "language": "python",
   "name": "python3"
  },
  "language_info": {
   "codemirror_mode": {
    "name": "ipython",
    "version": 3
   },
   "file_extension": ".py",
   "mimetype": "text/x-python",
   "name": "python",
   "nbconvert_exporter": "python",
   "pygments_lexer": "ipython3",
   "version": "3.10.12"
  }
 },
 "nbformat": 4,
 "nbformat_minor": 5
}
